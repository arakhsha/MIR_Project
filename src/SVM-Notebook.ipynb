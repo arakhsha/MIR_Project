{
 "cells": [
  {
   "cell_type": "code",
   "execution_count": 23,
   "metadata": {
    "collapsed": true,
    "pycharm": {
     "is_executing": false,
     "name": "#%%\n"
    }
   },
   "outputs": [
    {
     "name": "stdout",
     "text": [
      "Preprocess is done!\n",
      "Index Created Successfully!\n"
     ],
     "output_type": "stream"
    }
   ],
   "source": [
    "import random\n",
    "from abc import abstractmethod\n",
    "from math import log\n",
    "import pandas as pd\n",
    "from sklearn.feature_extraction.text import CountVectorizer, TfidfTransformer\n",
    "\n",
    "from data_extaction import read_docs\n",
    "from positional_indexing import PositionalIndexer\n",
    "from preprocess import EnglishPreprocessor\n",
    "import pprint\n",
    "from query import calc_tfidf\n",
    "\n",
    "from sklearn import svm\n",
    "\n",
    "train_docs = read_docs('../data/phase2_train.csv')\n",
    "test_docs = read_docs('../data/phase2_test.csv')\n",
    "\n",
    "preprocessor = EnglishPreprocessor(train_docs)\n",
    "\n",
    "for doc in train_docs.values():\n",
    "    doc.words = preprocessor.preprocess(doc.text)\n",
    "for doc in test_docs.values():\n",
    "    doc.words = preprocessor.preprocess(doc.text)\n",
    "\n",
    "print(\"Preprocess is done!\")\n",
    "\n",
    "index = PositionalIndexer(train_docs, 1).index\n",
    "print(\"Index Created Successfully!\")"
   ]
  },
  {
   "cell_type": "code",
   "execution_count": 47,
   "outputs": [
    {
     "data": {
      "text/plain": "SVC(C=1.0, break_ties=False, cache_size=200, class_weight=None, coef0=0.0,\n    decision_function_shape='ovr', degree=3, gamma='auto', kernel='linear',\n    max_iter=-1, probability=False, random_state=None, shrinking=True,\n    tol=0.001, verbose=False)"
     },
     "metadata": {},
     "output_type": "execute_result",
     "execution_count": 47
    }
   ],
   "source": [
    "docs = [\" \".join(doc.words) for doc in list(train_docs.values())]\n",
    "size = len(docs)\n",
    "train_size = int(0.9*size)\n",
    "t_docs = docs[:train_size]\n",
    "v_docs = docs[train_size:]\n",
    "\n",
    "cv = CountVectorizer()\n",
    "word_count_vector = cv.fit_transform(t_docs)\n",
    "\n",
    "tfidf_transformer = TfidfTransformer(smooth_idf=True, use_idf=True)\n",
    "tfidf_transformer.fit(word_count_vector)\n",
    "\n",
    "# count matrix\n",
    "count_vector=cv.transform(t_docs)\n",
    " \n",
    "# tf-idf scores\n",
    "tf_idf_vector=tfidf_transformer.transform(count_vector)\n",
    "\n",
    "feature_names = cv.get_feature_names()\n",
    " \n",
    "#get tfidf vector for first document\n",
    "first_document_vector=tf_idf_vector[0]\n",
    " \n",
    "#print the scores\n",
    "df = pd.DataFrame(tf_idf_vector.todense(), columns=feature_names, index=[i for i in range(train_size)])\n",
    "\n",
    "SVM = svm.SVC(C=1.0, kernel='linear', degree=3, gamma='auto')\n",
    "SVM.fit(df,[doc.tag for doc in list(train_docs.values())][:train_size])\n",
    "\n",
    "predictions_SVM = SVM.predict(Test_X_Tfidf)"
   ],
   "metadata": {
    "collapsed": false,
    "pycharm": {
     "name": "#%%\n",
     "is_executing": false
    }
   }
  }
 ],
 "metadata": {
  "kernelspec": {
   "display_name": "Python 3",
   "language": "python",
   "name": "python3"
  },
  "language_info": {
   "codemirror_mode": {
    "name": "ipython",
    "version": 2
   },
   "file_extension": ".py",
   "mimetype": "text/x-python",
   "name": "python",
   "nbconvert_exporter": "python",
   "pygments_lexer": "ipython2",
   "version": "2.7.6"
  },
  "pycharm": {
   "stem_cell": {
    "cell_type": "raw",
    "source": [],
    "metadata": {
     "collapsed": false
    }
   }
  }
 },
 "nbformat": 4,
 "nbformat_minor": 0
}